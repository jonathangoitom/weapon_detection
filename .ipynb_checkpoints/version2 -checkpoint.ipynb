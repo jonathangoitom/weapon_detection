{
 "cells": [
  {
   "cell_type": "markdown",
   "id": "271a7332",
   "metadata": {},
   "source": [
    "## Preparing Train, Test and Validation Data"
   ]
  },
  {
   "cell_type": "code",
   "execution_count": 12,
   "id": "0ad0dc60",
   "metadata": {},
   "outputs": [],
   "source": [
    "import numpy as np \n",
    "import pandas as pd \n",
    "import os \n",
    "from tensorflow.keras.applications import ResNet50\n",
    "from tensorflow.keras.preprocessing.image import load_img, img_to_array\n",
    "import matplotlib.pyplot as plt\n",
    "%matplotlib inline\n",
    "from os.path import join"
   ]
  },
  {
   "cell_type": "code",
   "execution_count": 16,
   "id": "e5113fb5",
   "metadata": {},
   "outputs": [],
   "source": [
    "#import weapon images from file directory \n",
    "train_img_dir = './data/pistols'\n",
    "train_img_paths = [join(train_img_dir, filename) for filename in os.listdir(train_img_dir)]"
   ]
  }
 ],
 "metadata": {
  "kernelspec": {
   "display_name": "Python 3 (ipykernel)",
   "language": "python",
   "name": "python3"
  },
  "language_info": {
   "codemirror_mode": {
    "name": "ipython",
    "version": 3
   },
   "file_extension": ".py",
   "mimetype": "text/x-python",
   "name": "python",
   "nbconvert_exporter": "python",
   "pygments_lexer": "ipython3",
   "version": "3.9.12"
  }
 },
 "nbformat": 4,
 "nbformat_minor": 5
}
